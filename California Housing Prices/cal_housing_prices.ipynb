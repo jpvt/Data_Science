{
 "cells": [
  {
   "cell_type": "markdown",
   "metadata": {},
   "source": [
    "# Califonia Housing Prices\n",
    "\n",
    "<p align=\"center\">\n",
    "<img src=\"imgs/cover_housing.png\" >\n",
    "</p>\n",
    "\n",
    "In this project I'll use the dataset from the StatLib repository for learning purposes. This dataset is based on data from the 1990 California Census. It is not recent, but it has many qualities for learning, so I'll pretend it is recent data. I'm using this project as a practical exercise from the book *Hands-On Machine Learning with Scikit-learn, Keras & TensorFlow 2nd Edition*.\n",
    "\n",
    "## End-to-End Machine Learning Project\n",
    "\n",
    "In this project I'll follow the 8 steps presented in the second chapter of the book *Hands-On Machine Learning with Scikit-learn, Keras & TensorFlow 2nd Edition* :\n",
    "\n",
    "1. Look at the big picture;\n",
    "2. Get the Data;\n",
    "3. Discover and visualize the data to gain insights;\n",
    "4. Prepare the data for Machine Learning algorithms;\n",
    "5. Select a model and train it;\n",
    "6. Fine-tune my model;\n",
    "7. Present my solution;\n",
    "8. Launch, monitor, and maintain my system.\n",
    "\n",
    "\n",
    "## Look at the big picture\n",
    "\n",
    "My first task is to use California Census data to build a model of housing prices in the state. This data includes metrics such as the population, median income, and median housing price for each block group in California. Block Groups are the smallest geographical unit for which the US Census Bureau publishes sample data. I'll call them 'districts' for short, just as the book.\n",
    "\n",
    "My model should learn from this data and be able to predict the median housing price in any district, given all other metrics.\n",
    "\n",
    "Here it is a checklist to frame the problem and look at the big picture:\n",
    "\n",
    "- [ ] Define the objective in business terms\n",
    "- [ ] How my solution will de used?\n",
    "- [ ] What are the current solutions/workarounds (if any)?\n",
    "- [ ] How should I frame this problem (supervised/unsupervised, online/offline, etc.)?\n",
    "- [ ] How should performance be measured?\n",
    "- [ ] Is the performance measured aligned with the business objective?\n",
    "- [ ] What should be the minimum performance needed to reach the business objective?\n",
    "- [ ] What are comparable problems? Can you reuse experience or tools?\n",
    "- [ ] Is human expertise available?\n",
    "- [ ] How would I solve the problem manually?\n",
    "- [ ] List the assumptions you (or others) have made so far.\n",
    "- [ ] Verify assumptions if possible."
   ]
  },
  {
   "cell_type": "code",
   "execution_count": null,
   "metadata": {},
   "outputs": [],
   "source": []
  }
 ],
 "metadata": {
  "kernelspec": {
   "display_name": "Python 3",
   "language": "python",
   "name": "python3"
  },
  "language_info": {
   "codemirror_mode": {
    "name": "ipython",
    "version": 3
   },
   "file_extension": ".py",
   "mimetype": "text/x-python",
   "name": "python",
   "nbconvert_exporter": "python",
   "pygments_lexer": "ipython3",
   "version": "3.7.6"
  }
 },
 "nbformat": 4,
 "nbformat_minor": 4
}
